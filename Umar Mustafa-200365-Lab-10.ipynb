{
 "cells": [
  {
   "cell_type": "markdown",
   "id": "6eff080d",
   "metadata": {},
   "source": [
    "## <center>Computer Application in Engineering Design Lab\n",
    "### <center>Lab 10, BCE Fall 2021\n",
    "### Instructor: Muhammad Farooq Khan\n",
    "### Date: 18-Dec-2021"
   ]
  },
  {
   "cell_type": "markdown",
   "id": "357d9f77",
   "metadata": {},
   "source": [
    "### Task 1"
   ]
  },
  {
   "cell_type": "code",
   "execution_count": 54,
   "id": "5ff0b4dc",
   "metadata": {},
   "outputs": [
    {
     "name": "stdout",
     "output_type": "stream",
     "text": [
      "---------Function to Find Area from Radius---------\n",
      "\n",
      "Radius: 5\n",
      "Area: 78.5\n"
     ]
    }
   ],
   "source": [
    "print(\"---------Function to Find Area from Radius---------\\n\")\n",
    "def radius():\n",
    "    r = 5\n",
    "    return r \n",
    "def area():\n",
    "    a = 3.14*(radius()*radius())\n",
    "    return a\n",
    "print(\"Radius:\", radius())\n",
    "print(\"Area:\", area())"
   ]
  },
  {
   "cell_type": "markdown",
   "id": "2dfe7cfb",
   "metadata": {},
   "source": [
    "### Task 2"
   ]
  },
  {
   "cell_type": "code",
   "execution_count": 61,
   "id": "b8b8c42f",
   "metadata": {},
   "outputs": [
    {
     "name": "stdout",
     "output_type": "stream",
     "text": [
      "---------Function for Generating Grade---------\n",
      "\n",
      "Enterd Score: 90\n",
      "Your Grade is: A \n",
      "\n",
      "Enterd Score: 73\n",
      "Your Grade is: B \n",
      "\n",
      "Enterd Score: 60\n",
      "Your Grade is: C \n",
      "\n",
      "Enterd Score: 49\n",
      "Your Grade is: D \n",
      "\n",
      "Enterd Score: 33\n",
      "Your Grade is: E \n",
      "\n",
      "Enterd Score: 27\n",
      "Your Grade is: F \n",
      "\n"
     ]
    }
   ],
   "source": [
    "print(\"---------Function for Generating Grade---------\\n\")\n",
    "def courseGrade(score):\n",
    "    if score <= 100 and score >= 87:\n",
    "        grade = \"A\"\n",
    "    elif score <= 86 and score >= 73:\n",
    "        grade = \"B\"\n",
    "    elif score <= 72 and score >= 59:\n",
    "        grade = \"C\"\n",
    "    elif score <= 58 and score >= 45:\n",
    "        grade = \"D\"\n",
    "    elif score <= 44 and score >= 31:\n",
    "        grade = \"E\"\n",
    "    if score < 31:\n",
    "        grade = \"F\"\n",
    "    print(\"Enterd Score:\", score)\n",
    "    print(\"Your Grade is:\",grade,\"\\n\")\n",
    "courseGrade(90)\n",
    "courseGrade(73)\n",
    "courseGrade(60)\n",
    "courseGrade(49)\n",
    "courseGrade(33)\n",
    "courseGrade(27)"
   ]
  },
  {
   "cell_type": "markdown",
   "id": "7bed31a3",
   "metadata": {},
   "source": [
    "### Task 3"
   ]
  },
  {
   "cell_type": "code",
   "execution_count": 60,
   "id": "90373025",
   "metadata": {},
   "outputs": [
    {
     "name": "stdout",
     "output_type": "stream",
     "text": [
      "---------Function For Finding Minimum Numbers---------\n",
      "\n",
      "1.Among 3 default arguments of the function:\n",
      "Minimum number from these numbers is (5, 6, 9) : 5 \n",
      "\n",
      "2.For all keyword arguments:\n",
      "Minimum number from these numbers is (9, 7, 8) : 7 \n",
      "\n",
      "3.For positional arguments:\n",
      "Minimum number from these numbers is (4, 7, 3) : 3 \n",
      "\n"
     ]
    }
   ],
   "source": [
    "print(\"---------Function For Finding Minimum Numbers---------\\n\")\n",
    "def minimum(x=5, y=6, z=9):\n",
    "    print(\"Minimum number from these numbers is\", (x, y, z), \":\", min(x, y, z),\"\\n\")\n",
    "print(\"1.Among 3 default arguments of the function:\")\n",
    "minimum()\n",
    "print(\"2.For all keyword arguments:\")\n",
    "minimum(z=8, x=9, y=7)\n",
    "x = 4\n",
    "y = 7\n",
    "z = 3\n",
    "print(\"3.For positional arguments:\")\n",
    "minimum(x,y,z)"
   ]
  },
  {
   "cell_type": "markdown",
   "id": "e60fcd1a",
   "metadata": {},
   "source": [
    "### Task 4"
   ]
  },
  {
   "cell_type": "code",
   "execution_count": 62,
   "id": "bf909b8d",
   "metadata": {},
   "outputs": [
    {
     "name": "stdout",
     "output_type": "stream",
     "text": [
      "---------Function for Swapping Two Numbers---------\n",
      "\n",
      "Numbers before swapping: 5 , 6\n",
      "Numbers after swapping: 6 , 5\n"
     ]
    }
   ],
   "source": [
    "print(\"---------Function for Swapping Two Numbers---------\\n\")\n",
    "def swap(x, y):\n",
    "    print(\"Numbers before swapping:\", x, \",\",  y)\n",
    "    x,y = y,x\n",
    "    print(\"Numbers after swapping:\", x, \",\",y)\n",
    "swap(5,6)"
   ]
  }
 ],
 "metadata": {
  "kernelspec": {
   "display_name": "Python 3 (ipykernel)",
   "language": "python",
   "name": "python3"
  },
  "language_info": {
   "codemirror_mode": {
    "name": "ipython",
    "version": 3
   },
   "file_extension": ".py",
   "mimetype": "text/x-python",
   "name": "python",
   "nbconvert_exporter": "python",
   "pygments_lexer": "ipython3",
   "version": "3.9.7"
  }
 },
 "nbformat": 4,
 "nbformat_minor": 5
}
